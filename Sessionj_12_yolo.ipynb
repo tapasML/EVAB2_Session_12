{
  "nbformat": 4,
  "nbformat_minor": 0,
  "metadata": {
    "colab": {
      "name": "Sessionj_12_yolo.ipynb",
      "provenance": [],
      "collapsed_sections": [],
      "authorship_tag": "ABX9TyOC//Ws4fTlof3DaQFdNrK8",
      "include_colab_link": true
    },
    "kernelspec": {
      "name": "python3",
      "display_name": "Python 3"
    }
  },
  "cells": [
    {
      "cell_type": "markdown",
      "metadata": {
        "id": "view-in-github",
        "colab_type": "text"
      },
      "source": [
        "<a href=\"https://colab.research.google.com/github/tapasML/EVAB2_Session_12/blob/main/Sessionj_12_yolo.ipynb\" target=\"_parent\"><img src=\"https://colab.research.google.com/assets/colab-badge.svg\" alt=\"Open In Colab\"/></a>"
      ]
    },
    {
      "cell_type": "markdown",
      "metadata": {
        "id": "RBcPbOTrz2Cs"
      },
      "source": [
        "Function calculates the normalized width, hight for the bounding boxes.\r\n",
        "\r\n",
        "Note that the pythob modules boundingbox.py and findingK.py are also uploaded in github"
      ]
    },
    {
      "cell_type": "code",
      "metadata": {
        "id": "p1lJlc1_zma9"
      },
      "source": [
        "import pandas as pd\r\n",
        "import numpy as np\r\n",
        "from matplotlib import pyplot as plt\r\n",
        "from sklearn.datasets.samples_generator import make_blobs\r\n",
        "from sklearn.cluster import KMeans\r\n",
        "\r\n",
        "def calculate_bbox_width_height():\r\n",
        "    df = pd.read_json (r'YOLO.json')\r\n",
        "    num_regions=0\r\n",
        "    points= np.zeros((371,2))\r\n",
        "    count = 0\r\n",
        "\r\n",
        "    # transpose for convert each row, an image\r\n",
        "    df=df.transpose()\r\n",
        "\r\n",
        "    for j in range(120):    \r\n",
        "        image_attr = df['file_attributes'].values[j]\r\n",
        "        # image \r\n",
        "        WIDTH  = int(image_attr['image_width'])\r\n",
        "        HEIGHT = int(image_attr['image_height'])\r\n",
        "    \r\n",
        "        # one image may have multiple regions / bounding boxes\r\n",
        "        segment = df['regions'].values[j]\r\n",
        "        num_regs_in_img = len(segment)\r\n",
        "        num_regions += num_regs_in_img\r\n",
        "    \r\n",
        "        for k in range(num_regs_in_img): \r\n",
        "            _box_segment = segment[k]                      \r\n",
        "    \r\n",
        "            # bounding box origin\r\n",
        "            bb_x =  _box_segment['shape_attributes']['x']\r\n",
        "            bb_y =  _box_segment['shape_attributes']['y']\r\n",
        "    \r\n",
        "            # bounding box width/height\r\n",
        "            W = _box_segment['shape_attributes']['width']\r\n",
        "            H = _box_segment['shape_attributes']['height']\r\n",
        "       \r\n",
        "    \r\n",
        "            # bounding box width/height normalized\r\n",
        "            ww = round(W/WIDTH, 4)\r\n",
        "            hh = round(H/HEIGHT, 4)\r\n",
        "            \r\n",
        "           \r\n",
        "            points[count][0]=ww\r\n",
        "            points[count][1]=hh\r\n",
        "            count += 1            \r\n",
        "        \r\n",
        "            # centroid\r\n",
        "            CX = bb_x + W/2 \r\n",
        "            CY = bb_y + H/2\r\n",
        "    \r\n",
        "            # normalized centroid\r\n",
        "            cxx = round(CX/WIDTH, 4)\r\n",
        "            cyy = round(CY/HEIGHT, 4)     \r\n",
        "    \r\n",
        "            #print(f'width={ww}, height={hh}, cxx= {cxx}, cyy={cyy}')\r\n",
        "    \r\n",
        "    #print(\"#bounding boxes =\", num_regions)  \r\n",
        "    return points\r\n",
        "    \r\n",
        "calculate_bbox_width_height()\r\n"
      ],
      "execution_count": null,
      "outputs": []
    },
    {
      "cell_type": "markdown",
      "metadata": {
        "id": "gEzHlfBOz0Ik"
      },
      "source": [
        "Calculate # of clusters"
      ]
    },
    {
      "cell_type": "code",
      "metadata": {
        "colab": {
          "base_uri": "https://localhost:8080/",
          "height": 543
        },
        "id": "4FlIyVgb0Erd",
        "outputId": "82ac90af-3622-46e2-f52f-1c7236404877"
      },
      "source": [
        "\r\n",
        "X = calculate_bbox_width_height()\r\n",
        "\r\n",
        "plt.scatter(X[:,0], X[:,1])\r\n",
        "plt.show()\r\n",
        "\r\n",
        "wcss = []\r\n",
        "for i in range(1, 11):\r\n",
        "    kmeans = KMeans(n_clusters=i, init='k-means++', max_iter=300, n_init=10, random_state=0)\r\n",
        "    kmeans.fit(X)\r\n",
        "    wcss.append(kmeans.inertia_)\r\n",
        "    \r\n",
        "plt.plot(range(1, 11), wcss)\r\n",
        "plt.title('Elbow Method')\r\n",
        "plt.xlabel('Number of clusters')\r\n",
        "plt.ylabel('WCSS')\r\n",
        "plt.show()"
      ],
      "execution_count": 2,
      "outputs": [
        {
          "output_type": "display_data",
          "data": {
            "image/png": "[encoded data removed]",
            "text/plain": [
              "<Figure size 432x288 with 1 Axes>"
            ]
          },
          "metadata": {
            "tags": [],
            "needs_background": "light"
          }
        },
        {
          "output_type": "display_data",
          "data": {
            "image/png": "[encoded data removed]",
            "text/plain": [
              "<Figure size 432x288 with 1 Axes>"
            ]
          },
          "metadata": {
            "tags": [],
            "needs_background": "light"
          }
        }
      ]
    }
  ]
}